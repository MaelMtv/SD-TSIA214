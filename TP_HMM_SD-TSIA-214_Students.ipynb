{
 "cells": [
  {
   "cell_type": "markdown",
   "metadata": {},
   "source": [
    "# Text segmentation using Hidden Markov Models"
   ]
  },
  {
   "cell_type": "code",
   "execution_count": 77,
   "metadata": {},
   "outputs": [],
   "source": [
    "import os\n",
    "import glob\n",
    "import numpy as np"
   ]
  },
  {
   "cell_type": "code",
   "execution_count": 78,
   "metadata": {},
   "outputs": [],
   "source": [
    "ROOT = os.path.abspath('.')\n",
    "\n",
    "PERL_DIR = os.path.join(ROOT,'PerlScriptAndModel')\n",
    "RES_DIR = os.path.join(ROOT,'res')"
   ]
  },
  {
   "cell_type": "markdown",
   "metadata": {},
   "source": [
    "### Coding/Decoding Mails"
   ]
  },
  {
   "cell_type": "code",
   "execution_count": 79,
   "metadata": {},
   "outputs": [],
   "source": [
    "DATA_DIR = os.path.join(ROOT,'dat')\n",
    "\n",
    "# Iterate through files and load the text \n",
    "def files_iter(data_dir, with_name=False):\n",
    "    files = glob.glob('{}/*.dat'.format((data_dir)))\n",
    "    if with_name:\n",
    "        for f in files:\n",
    "            # Get the filename \n",
    "            name = f.split(\"\\\\\")[-1].split('.')[0]\n",
    "            # Return filename and associated text\n",
    "            yield name, np.loadtxt(f, dtype=int)\n",
    "    else:\n",
    "        for f in files :\n",
    "            yield np.loadtxt(f, dtype = int)"
   ]
  },
  {
   "cell_type": "code",
   "execution_count": 80,
   "metadata": {},
   "outputs": [],
   "source": [
    "# And we get a generator that will allow us to iterate through the mails\n",
    "mail_iter = files_iter(DATA_DIR, with_name=True)"
   ]
  },
  {
   "cell_type": "markdown",
   "metadata": {},
   "source": [
    "### Distribution files"
   ]
  },
  {
   "cell_type": "code",
   "execution_count": 81,
   "metadata": {},
   "outputs": [],
   "source": [
    "# Writing a function to get the probability data\n",
    "def get_emission_prob(perl_dir):\n",
    "    return np.loadtxt(os.path.join(perl_dir,'P.text'))"
   ]
  },
  {
   "cell_type": "code",
   "execution_count": 82,
   "metadata": {},
   "outputs": [],
   "source": [
    "# Inputs to the Viterbi function\n",
    "trans = np.array([[0.999218078035812,0.000781921964187974],[0,1]])\n",
    "emission_prob = get_emission_prob(PERL_DIR)\n",
    "start_prob = np.array([1,0])"
   ]
  },
  {
   "cell_type": "markdown",
   "metadata": {},
   "source": [
    "### To implement:"
   ]
  },
  {
   "cell_type": "code",
   "execution_count": 83,
   "metadata": {},
   "outputs": [],
   "source": [
    "# Viterbi function\n",
    "def viterbi(obs, start_prob, trans, emission_prob):\n",
    "    \"\"\"\n",
    "        Viterbi Algorithm Implementation\n",
    "\n",
    "        Keyword arguments:\n",
    "            - obs: sequence of observation\n",
    "            - states:list of states\n",
    "            - start_prob:vector of the initial probabilities\n",
    "            - trans: transition matrix\n",
    "            - emission_prob: emission probability matrix\n",
    "        Returns:\n",
    "            - seq: sequence of state\n",
    "    \"\"\"\n",
    "\n",
    "    # Avoid underflow: use the logarithm !\n",
    "    # Avoid 0 in logarithm: use a small constant !\n",
    "    small = 10e-10\n",
    "    \n",
    "    start_prob = np.log(start_prob+small)\n",
    "    trans = np.log(trans+small)\n",
    "    emission_prob = np.log(emission_prob+small)\n",
    "    \n",
    "    T = len(obs) # Number of observations\n",
    "    N = trans.shape[0] # Number of model states\n",
    "    \n",
    "    # Initialisation\n",
    "    log_l = np.zeros((T,2))\n",
    "    bcktr = np.zeros((T,2))\n",
    "    \n",
    "    # Viterbi\n",
    "    \n",
    "    # Forward loop:\n",
    "    log_l[0,:]= emission_prob[obs[0],:]+start_prob\n",
    "    for t in range(1,T):\n",
    "        for j in range(N):\n",
    "            log_l[t, j] = emission_prob[obs[t],j]+np.max(trans[:,j]+log_l[t-1,:])\n",
    "            bcktr[t, j] = np.argmax(trans[:,j]+log_l[t-1,:])\n",
    "    # Backward loop\n",
    "    path = np.zeros(T,dtype=int)\n",
    "    path[-1] = np.argmax(log_l[T-1,:]) \n",
    "    for i in range(T-1,0,-1):\n",
    "        path[i - 1] = bcktr[i,path[i]]\n",
    "\n",
    "    return path"
   ]
  },
  {
   "cell_type": "code",
   "execution_count": 84,
   "metadata": {},
   "outputs": [],
   "source": [
    "# Creating a directory to put the result of the viterbi function\n",
    "if not os.path.exists(RES_DIR):\n",
    "    os.mkdir(RES_DIR)\n",
    "    \n",
    "# Function that will write a viterbi path for a mail in a dedicated result file\n",
    "def create_viterbi_path_file(mail_name, viterbi_path):\n",
    "    with open('{}/{}_path.txt'.format(RES_DIR, mail_name), 'w') as f: \n",
    "        f.write(''.join([str(c) for c in viterbi_path]))   "
   ]
  },
  {
   "cell_type": "code",
   "execution_count": 85,
   "metadata": {},
   "outputs": [],
   "source": [
    "# Using our generator, we get the mail names and data\n",
    "for name_file, data in mail_iter:\n",
    "    # Find out the viterbi path using viterbi\n",
    "    viterbi_path = viterbi(data,start_prob,trans,emission_prob)\n",
    "    # Put it in the result file\n",
    "    create_viterbi_path_file(name_file, viterbi_path)"
   ]
  },
  {
   "cell_type": "markdown",
   "metadata": {},
   "source": [
    "### Visualizing segmentation"
   ]
  },
  {
   "cell_type": "code",
   "execution_count": 86,
   "metadata": {},
   "outputs": [],
   "source": [
    "# Writing a function to go into the directory and execute the perl script \"segment.pl\" on the mail in the given path\n",
    "def exec_perl_script(mail, path):\n",
    "    res = !cd {PERL_DIR}; perl segment.pl {mail} {path}\n",
    "    return res\n",
    "\n",
    "# Writing a function getting the original mail, the result of viterbi, and applying the segmentation script\n",
    "# Then putting the result\n",
    "def segment_mail(mail_name, data_dir, output_dir):\n",
    "    # Get the full path of the mail\n",
    "    mail = os.path.join(data_dir,mail_name+'.txt').replace('\\\\','/')\n",
    "    # Get the full path of the result\n",
    "    path = os.path.join(output_dir, mail_name+'_path.txt').replace('\\\\','/')\n",
    "    # Execute the visualization script\n",
    "    print(mail)\n",
    "    print(path)\n",
    "    formatted_mail = exec_perl_script(mail,path)\n",
    "    print(formatted_mail)\n",
    "    # Get the results\n",
    "    \"\"\"\n",
    "    formatted_mail_text = np.loadtxt(formatted_mail)\n",
    "    print(formatted_mail_text)\n",
    "    \n",
    "    # Go through the resulting text until the cutting line\n",
    "    ...\n",
    "    # If this was not the last line, return the text cut in to parts: header and body\n",
    "    ...\n",
    "    # If not, it's just a header\n",
    "    ...\"\"\""
   ]
  },
  {
   "cell_type": "code",
   "execution_count": 87,
   "metadata": {},
   "outputs": [
    {
     "name": "stdout",
     "output_type": "stream",
     "text": [
      "00000000000000000000000000000000000000000000000000000000000000000000000000000000000000000000000000000000000000000000000000000000000000000000000000000000000000000000000000000000000000000000000000000000000000000000000000000000000000000000000000000000000000000000000000000000000000000000000000000000000000000000000000000000000000000000000000000000000000000000000000000000000000000000000000000000000000000000000000000000000000000000000000000000000000000000000000000000000000000000000000000000000000000000000000000000000000000000000000000000000000000000000000000000000000000000000000000000000000000000000000000000000000000000000000000000000000000000000000000000000000000000000000000000000000000000000000000000000000000000000000000000000000000000000000000000000000000000000000000000000000000000000000000000000000000000000000000000000000000000000000000000000000000000000000000000000000000000000000000000000000000000000000000000000000000000000000000000000000000000000000000000000000000000000000000000000000000000000000000000000000000000000000000000000000000000000000000000000000000000000000000000000000000000000000000000000000000000000000000000000000000000000000000000000000000000000000000000000000000000000000000000000000000000000000000000000000000000000000000000000000000000000000000000000000000000000000000000000000000000000000000000000000000000000000000000000000000000000000000000000000000000000000000000000000000000000000000000000000000000000000000000000000000000000000000000000000000000000000000000000000000000000000000000000000000000000000000000000000000000000000000000000000000000000000000000000000000000000000000000000000000000000000000000000000000000000000000000000000000000000000000000000000000000000000000000000000000000000000000000000000000000000000000000000000000000000000000000000000000000000000000000000000000000000000000000000000000000000000000000000000000000000000000000000000000000000000000000000000000000000000000000000000000000000000000000000000000000000000000000000000000000000000000000000000000000000000000000000000000000000000000000000000000000000000000000000000000000000000000000000000000000000000000000000000000000000000000000000000000000000000000000000000000000000000000000000000000000000000000000000000000000000000000000000000000000000000000000000000000000000000000000000000000000000000000000000000000000000000000000000000000000000000000000000000000000000000000000000000000000000000000000000000000000000000000000000000000000000000000000000000000000000000000000000000000000000000000000000000000000000000000000000000000000000000000000000000000000000000000000000000000000000000000000000000000000000000000000000000000000000000000000000000000000000000000000000000000000000000000000000000000000000000000000000000000000000111111111111111111111111111111111111111111111111111111111111111111111111111111111111111111111111111111111111111111111111111111111111111111111111111111111111111111111111111111111111111111111111111111111111111111111111111111111111111111111111111111111111111111111111111111111111111111111111111111111111111111111111111111111111111111111111111111111111111111111111111111111111111111111111111111111111111111111111111111111111111111111111111111111111111111111111111111111111111111111111111111111111111111111111111111111111111111111111111111111111111111111111111111111111111111111111111111111111111111111111111111111111111111111111111111111111111111111111111111111111111111111111111111111111111111111111111111111111111111111111111111111111111111111111111111111111111111111111111111111111111111111111111111111111111111111111111111111111111111110000000000000000000000000000000000000000000000000000000000000000000000000000000000000000000000000000000000000000000000000000000000000000000000000000000000000000000000000000000000000000000000000000000000000000000000000000000001111111111111111111111111111111111111111111111111111111111111111111111111111111111111111111111111111111111111111111111111111111111111111111111111111111111111111111111111111111111111111111111111111111111111111111111111111111111111111111111111111111111111111111111111111111111111111111111111111111111111111111111111111111111111111111111111111111111100000000000000000000000000000000000000000000000000000000000000000000000000000000000000000000000000000011111111111111111111111111111111111111111111111111111111111111111111111111111111111111111111111111111111111111111111111111111111111111111111111111111111111111111111111111111111111111111111111111111111111111111111111111111111111111111111111111111111111111111111111111111111111111111111111111111111111111111111100000000000000000000000000000000000000000000000000000000000000000000000111111111111111111111111111111111111111111111111111111111111111111111111111111111111111111111111111111111111111111111111111111111111111111111111111111111111111111111111111111111111111111111111111111111111111111111111111111111111111111111111111111111111111111111111111111111111111111111111111111111111111111111111111111111111111111111111111111111111111111111111111111111111111111111111111111111111111111111111111111111111111111111111111111111111111111111111111111111111111111111111111111111111111111111111111111111111111111111111111111111111111111111111111111111111111111111111111111111111111\n"
     ]
    }
   ],
   "source": [
    "with open('d:/TP_TSIA/SD-TSIA214/TP2/res/mail1_path.txt','r') as f:\n",
    "    print(f.read())"
   ]
  },
  {
   "cell_type": "code",
   "execution_count": 52,
   "metadata": {},
   "outputs": [
    {
     "name": "stdout",
     "output_type": "stream",
     "text": [
      "d:/TP_TSIA/SD-TSIA214/TP2/dat/mail1.txt\n",
      "d:/TP_TSIA/SD-TSIA214/TP2/res/mail1_path.txt\n",
      "['La syntaxe du nom de fichier, de r�pertoire ou de volume est incorrecte.']\n"
     ]
    }
   ],
   "source": [
    "# Getting mails names\n",
    "mails= []\n",
    "for name_file, data in files_iter(DATA_DIR, with_name=True):\n",
    "    mails.append(name_file)\n",
    "# Call the function and look at the result of segmentation\n",
    "segment_mail(mails[0],DATA_DIR,RES_DIR)"
   ]
  }
 ],
 "metadata": {
  "kernelspec": {
   "display_name": "Python 3 (ipykernel)",
   "language": "python",
   "name": "python3"
  },
  "language_info": {
   "codemirror_mode": {
    "name": "ipython",
    "version": 3
   },
   "file_extension": ".py",
   "mimetype": "text/x-python",
   "name": "python",
   "nbconvert_exporter": "python",
   "pygments_lexer": "ipython3",
   "version": "3.11.4"
  }
 },
 "nbformat": 4,
 "nbformat_minor": 2
}
