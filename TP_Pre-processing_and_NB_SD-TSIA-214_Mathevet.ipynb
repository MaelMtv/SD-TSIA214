{
 "cells": [
  {
   "cell_type": "markdown",
   "metadata": {},
   "source": [
    "# TP : Sentiment analysis on IMDB movie reviews"
   ]
  },
  {
   "cell_type": "markdown",
   "metadata": {},
   "source": [
    "## Objectives\n",
    "\n",
    "1. Implement a simple way to represent text data - Bag of words\n",
    "2. Implement a basic statistical learning model - Bayesian Naive\n",
    "3. Use these representations and this model for a sentiment analysis task.\n",
    "4. Experiment with various way to reduce the vocabulary size and look at the distribution obtained."
   ]
  },
  {
   "cell_type": "markdown",
   "metadata": {},
   "source": [
    "## Necessary dependancies\n",
    "\n",
    "We will need the following packages:\n",
    "- The Machine Learning API Scikit-learn : http://scikit-learn.org/stable/install.html\n",
    "- The Natural Language Toolkit : http://www.nltk.org/install.html\n",
    "\n",
    "Both are available with Anaconda: https://anaconda.org/anaconda/nltk and https://anaconda.org/anaconda/scikit-learn"
   ]
  },
  {
   "cell_type": "code",
   "execution_count": 10,
   "metadata": {},
   "outputs": [],
   "source": [
    "import os.path as op\n",
    "import re \n",
    "import numpy as np\n",
    "import matplotlib.pyplot as plt"
   ]
  },
  {
   "cell_type": "markdown",
   "metadata": {},
   "source": [
    "## Loading data\n",
    "\n",
    "We retrieve the textual data in the variable *texts*.\n",
    "\n",
    "The labels are retrieved in the variable $y$ - it contains *len(texts)* of them: $0$ indicates that the corresponding review is negative while $1$ indicates that it is positive."
   ]
  },
  {
   "cell_type": "code",
   "execution_count": 11,
   "metadata": {},
   "outputs": [],
   "source": [
    "from glob import glob\n",
    "# We get the files from the path: ./aclImdb/train/neg for negative reviews, and ./aclImdb/train/pos for positive reviews\n",
    "train_filenames_neg = sorted(glob(op.join('./aclImdb/train', 'neg', '*.txt')))\n",
    "train_filenames_pos = sorted(glob(op.join('./aclImdb/train', 'pos', '*.txt')))\n",
    "\n",
    "# Each files contains a review that consists in one line of text: we put this string in two lists, that we concatenate\n",
    "train_texts_neg = [open(f, encoding=\"utf8\").read() for f in train_filenames_neg]\n",
    "train_texts_pos = [open(f, encoding=\"utf8\").read() for f in train_filenames_pos]\n",
    "train_texts = train_texts_neg + train_texts_pos\n",
    "\n",
    "# The first half of the elements of the list are string of negative reviews, and the second half positive ones\n",
    "# We create the labels, as an array of [1,len(texts)], filled with 1, and change the first half to 0\n",
    "train_labels = np.ones(len(train_texts), dtype=int)\n",
    "train_labels[:len(train_texts_neg)] = 0."
   ]
  },
  {
   "cell_type": "code",
   "execution_count": 12,
   "metadata": {},
   "outputs": [
    {
     "data": {
      "text/plain": [
       "\"Story of a man who has unnatural feelings for a pig. Starts out with a opening scene that is a terrific example of absurd comedy. A formal orchestra audience is turned into an insane, violent mob by the crazy chantings of it's singers. Unfortunately it stays absurd the WHOLE time with no general narrative eventually making it just too off putting. Even those from the era should be turned off. The cryptic dialogue would make Shakespeare seem easy to a third grader. On a technical level it's better than you might think with some good cinematography by future great Vilmos Zsigmond. Future stars Sally Kirkland and Frederic Forrest can be seen briefly.\""
      ]
     },
     "execution_count": 12,
     "metadata": {},
     "output_type": "execute_result"
    }
   ],
   "source": [
    "open(\"./aclImdb/train/neg/0_3.txt\", encoding=\"utf8\").read()"
   ]
  },
  {
   "cell_type": "markdown",
   "metadata": {},
   "source": [
    "**In this lab, the impact of our choice of representations upon our results will also depend on the quantity of data we use:** try to see how changing the parameter ```k``` affects our results !"
   ]
  },
  {
   "cell_type": "code",
   "execution_count": 13,
   "metadata": {},
   "outputs": [
    {
     "name": "stdout",
     "output_type": "stream",
     "text": [
      "Number of documents: 2500\n"
     ]
    }
   ],
   "source": [
    "# This number of documents may be high for most computers: we can select a fraction of them (here, one in k)\n",
    "# Use an even number to keep the same number of positive and negative reviews\n",
    "k = 10\n",
    "train_texts_reduced = train_texts[0::k]\n",
    "train_labels_reduced = train_labels[0::k]\n",
    "\n",
    "print('Number of documents:', len(train_texts_reduced))"
   ]
  },
  {
   "cell_type": "markdown",
   "metadata": {},
   "source": [
    "We can use a function from sklearn, ```train_test_split```, to separate data into training and validation sets:"
   ]
  },
  {
   "cell_type": "code",
   "execution_count": 14,
   "metadata": {},
   "outputs": [],
   "source": [
    "from sklearn.model_selection import train_test_split"
   ]
  },
  {
   "cell_type": "code",
   "execution_count": 15,
   "metadata": {},
   "outputs": [],
   "source": [
    "train_texts_splt, val_texts, train_labels_splt, val_labels = train_test_split(train_texts_reduced, train_labels_reduced, test_size=.2)"
   ]
  },
  {
   "cell_type": "markdown",
   "metadata": {},
   "source": [
    "## I - Adapted representation of documents\n",
    "\n",
    "Our statistical model, like most models applied to textual data, uses counts of word occurrences in a document. Thus, a very convenient way to represent a document is to use a Bag-of-Words (BoW) vector, containing the counts of each word (regardless of their order of occurrence) in the document. \n",
    "\n",
    "If we consider the set of all the words appearing in our $T$ training documents, which we note $V$ (Vocabulary), we can create **an index**, which is a bijection associating to each $w$ word an integer, which will be its position in $V$. \n",
    "\n",
    "Thus, for a document extracted from a set of documents containing $|V|$ different words, a BoW representation will be a vector of size $|V|$, whose value at the index of a word $w$ will be its number of occurrences in the document. \n",
    "\n",
    "We can use the **CountVectorizer** class from scikit-learn to obtain these representations:"
   ]
  },
  {
   "cell_type": "code",
   "execution_count": 16,
   "metadata": {},
   "outputs": [],
   "source": [
    "from sklearn.feature_extraction.text import CountVectorizer\n",
    "\n",
    "from sklearn.model_selection import cross_val_score\n",
    "from sklearn.base import BaseEstimator, ClassifierMixin"
   ]
  },
  {
   "cell_type": "code",
   "execution_count": 17,
   "metadata": {},
   "outputs": [
    {
     "name": "stdout",
     "output_type": "stream",
     "text": [
      "['avenue' 'boulevard' 'city' 'down' 'ran' 'the' 'walk' 'walked']\n"
     ]
    },
    {
     "data": {
      "text/plain": [
       "array([[0, 1, 0, 2, 0, 1, 0, 1],\n",
       "       [1, 0, 0, 1, 0, 1, 0, 1],\n",
       "       [0, 1, 0, 1, 1, 1, 0, 0],\n",
       "       [0, 0, 1, 1, 0, 1, 1, 0],\n",
       "       [1, 0, 0, 1, 0, 2, 1, 0]], dtype=int64)"
      ]
     },
     "execution_count": 17,
     "metadata": {},
     "output_type": "execute_result"
    }
   ],
   "source": [
    "corpus = ['I walked down down the boulevard',\n",
    "          'I walked down the avenue',\n",
    "          'I ran down the boulevard',\n",
    "          'I walk down the city',\n",
    "          'I walk down the the avenue']\n",
    "vectorizer = CountVectorizer()\n",
    "\n",
    "Bow = vectorizer.fit_transform(corpus)\n",
    "\n",
    "print(vectorizer.get_feature_names_out())\n",
    "Bow.toarray()"
   ]
  },
  {
   "cell_type": "markdown",
   "metadata": {},
   "source": [
    "We display the list containing the words ordered according to their index (Note that words of 2 characters or less are not counted)."
   ]
  },
  {
   "cell_type": "markdown",
   "metadata": {},
   "source": [
    "### Preprocessing the text: get the BoW representations ##\n",
    "\n",
    "The first thing to do is to turn the review from a string into a list of words. The simplest method is to divide the string according to spaces with the command:\n",
    "``text.split()``\n",
    "\n",
    "But we must also be careful to remove special characters that may not have been cleaned up (such as HTML tags if the data was obtained from web pages). Since we're going to count words, we'll have to build a list of tokens appearing in our data. In our case, we'd like to reduce this list and make it uniform (ignore capitalization, punctuation, and the shortest words). \n",
    "We will therefore use a function adapted to our needs - but this is a job that we generally don't need to do ourselves, since there are many tools already adapted to most situations. \n",
    "For text cleansing, there are many scripts, based on different tools (regular expressions, for example) that allow you to prepare data. The division of the text into words and the management of punctuation is handled in a step called *tokenization*; if needed, a python package like NLTK contains many different *tokenizers*."
   ]
  },
  {
   "cell_type": "code",
   "execution_count": 18,
   "metadata": {},
   "outputs": [
    {
     "name": "stdout",
     "output_type": "stream",
     "text": [
      "['walked', 'down', 'down', 'the', 'boulevard', 'walked', 'down', 'the', 'avenue', 'ran', 'down', 'the', 'boulevard', 'walk', 'down', 'the', 'city', 'walk', 'down', 'the', 'the', 'avenue']\n",
      "['I', 'walked', 'down', 'down', 'the', 'boulevard', '.', 'I', 'walked', 'down', 'the', 'avenue', '.', 'I', 'ran', 'down', 'the', 'boulevard', '.', 'I', 'walk', 'down', 'the', 'city', '.', 'I', 'walk', 'down', 'the', 'the', 'avenue', '.']\n"
     ]
    }
   ],
   "source": [
    "# We might want to clean the file with various strategies:\n",
    "def clean_and_tokenize(text):\n",
    "    \"\"\"\n",
    "    Cleaning a document with:\n",
    "        - Lowercase        \n",
    "        - Removing numbers with regular expressions\n",
    "        - Removing punctuation with regular expressions\n",
    "        - Removing other artifacts\n",
    "    And separate the document into words by simply splitting at spaces\n",
    "    Params:\n",
    "        text (string): a sentence or a document\n",
    "    Returns:\n",
    "        tokens (list of strings): the list of tokens (word units) forming the document\n",
    "    \"\"\"        \n",
    "    # Lowercase\n",
    "    text = text.lower()\n",
    "    # Remove numbers\n",
    "    text = re.sub(r\"[0-9]+\", \"\", text)\n",
    "    # Remove punctuation\n",
    "    REMOVE_PUNCT = re.compile(\"[.;:!\\'?,\\\"()\\[\\]]\")\n",
    "    text = REMOVE_PUNCT.sub(\"\", text)\n",
    "    # Remove small words (1 and 2 characters)\n",
    "    text = re.sub(r\"\\b\\w{1,2}\\b\", \"\", text)\n",
    "    # Remove HTML artifacts specific to the corpus we're going to work with\n",
    "    REPLACE_HTML = re.compile(\"(<br\\s*/><br\\s*/>)|(\\-)|(\\/)\")\n",
    "    text = REPLACE_HTML.sub(\" \", text)\n",
    "    \n",
    "    tokens = text.split()        \n",
    "    return tokens\n",
    "\n",
    "# Or we might want to use an already-implemented tool. The NLTK package has a lot of very useful text processing tools, among them various tokenizers\n",
    "# Careful, NLTK was the first well-documented NLP package, but it might be outdated for some uses. Check the documentation !\n",
    "\n",
    "from nltk.tokenize import word_tokenize\n",
    "\n",
    "\n",
    "corpus_raw = \"I walked down down the boulevard. I walked down the avenue. I ran down the boulevard. I walk down the city. I walk down the the avenue.\"\n",
    "print(clean_and_tokenize(corpus_raw))\n",
    "print(word_tokenize(corpus_raw))"
   ]
  },
  {
   "cell_type": "markdown",
   "metadata": {},
   "source": [
    "The next function takes as input a list of documents (each in the form of a string) and returns, as in the example using ``CountVectorizer``:\n",
    "- A vocabulary that associates, to each word encountered, an index\n",
    "- A matrix, with rows representing documents and columns representing words indexed by the vocabulary. In position $(i,j)$, one should have the number of occurrences of the word $j$ in the document $i$.\n",
    "\n",
    "The vocabulary, which was in the form of a *list* in the previous example, can be returned in the form of a *dictionary* whose keys are the words and values are the indices. Since the vocabulary lists the words in the corpus without worrying about their number of occurrences, it can be built up using a set (in python).\n",
    "\n",
    "<div class='alert alert-block alert-info'>\n",
    "            Code:</div>"
   ]
  },
  {
   "cell_type": "code",
   "execution_count": 19,
   "metadata": {},
   "outputs": [],
   "source": [
    "def count_words(texts):\n",
    "    \"\"\"Vectorize text : return count of each word in the text snippets\n",
    "\n",
    "    Parameters\n",
    "    ----------\n",
    "    texts : list of str\n",
    "        The texts\n",
    "    Returns\n",
    "    -------\n",
    "    vocabulary : dict\n",
    "        A dictionary that points to an index in counts for each word.\n",
    "    counts : ndarray, shape (n_samples, n_features)\n",
    "        The counts of each word in each text.\n",
    "    \"\"\"\n",
    "    vocabulary = {}\n",
    "    i = 0\n",
    "    for text in texts:\n",
    "        words = clean_and_tokenize(text)\n",
    "        for w in words:\n",
    "            if w not in vocabulary:\n",
    "                vocabulary[w] = i\n",
    "                i += 1\n",
    "    n_samples = len(texts)\n",
    "    n_features = len(vocabulary)\n",
    "    counts = np.zeros((n_samples,n_features))\n",
    "    for i in range(n_samples):\n",
    "        words = clean_and_tokenize(texts[i])\n",
    "        for w in words:\n",
    "            j = vocabulary[w]\n",
    "            counts[i][j] += 1 \n",
    "\n",
    "    return vocabulary, counts"
   ]
  },
  {
   "cell_type": "code",
   "execution_count": 20,
   "metadata": {},
   "outputs": [
    {
     "name": "stdout",
     "output_type": "stream",
     "text": [
      "{'walked': 0, 'down': 1, 'the': 2, 'boulevard': 3, 'avenue': 4, 'ran': 5, 'walk': 6, 'city': 7}\n",
      "[[1. 2. 1. 1. 0. 0. 0. 0.]\n",
      " [1. 1. 1. 0. 1. 0. 0. 0.]\n",
      " [0. 1. 1. 1. 0. 1. 0. 0.]\n",
      " [0. 1. 1. 0. 0. 0. 1. 1.]\n",
      " [0. 1. 2. 0. 1. 0. 1. 0.]]\n"
     ]
    }
   ],
   "source": [
    "Voc, X = count_words(corpus)\n",
    "print(Voc)\n",
    "print(X)"
   ]
  },
  {
   "cell_type": "markdown",
   "metadata": {},
   "source": [
    "Now, if we want to represent text that was not available when building the vocabulary, we will not be able to represent **new words** ! Let's take a look at how CountVectorizer does it:"
   ]
  },
  {
   "cell_type": "code",
   "execution_count": 21,
   "metadata": {},
   "outputs": [
    {
     "data": {
      "text/plain": [
       "array([[0, 0, 0, 0, 0, 1, 0, 1]], dtype=int64)"
      ]
     },
     "execution_count": 21,
     "metadata": {},
     "output_type": "execute_result"
    }
   ],
   "source": [
    "val_corpus = ['I walked up the street']\n",
    "Bow = vectorizer.transform(val_corpus)\n",
    "Bow.toarray()"
   ]
  },
  {
   "cell_type": "markdown",
   "metadata": {},
   "source": [
    "Modify the ```count_words``` function to be able to deal with new documents when given a previously obtained vocabulary ! \n",
    "\n",
    "<div class='alert alert-block alert-info'>\n",
    "            Code:</div>"
   ]
  },
  {
   "cell_type": "code",
   "execution_count": 22,
   "metadata": {},
   "outputs": [],
   "source": [
    "def count_words(texts, voc = None):\n",
    "    \"\"\"Vectorize text : return count of each word in the text snippets\n",
    "\n",
    "    Parameters\n",
    "    ----------\n",
    "    texts : list of str\n",
    "        The texts\n",
    "    voc : dict\n",
    "        A dictionary that points to an index in counts for each word - output by a previous use of the function\n",
    "        If not None, use this one\n",
    "    Returns\n",
    "    -------\n",
    "    vocabulary : dict\n",
    "        A dictionary that points to an index in counts for each word.\n",
    "    counts : ndarray, shape (n_samples, n_features)\n",
    "        The counts of each word in each text.\n",
    "    \"\"\"\n",
    "    if voc == None:\n",
    "        vocabulary = {}\n",
    "        i = 0\n",
    "        for text in texts:\n",
    "            words = clean_and_tokenize(text)\n",
    "            for w in words:\n",
    "                if w not in vocabulary:\n",
    "                    vocabulary[w] = i\n",
    "                    i += 1 \n",
    "    else:\n",
    "        vocabulary = voc\n",
    "        \n",
    "    n_samples = len(texts)\n",
    "    n_features = len(vocabulary)\n",
    "    counts = np.zeros((n_samples,n_features))\n",
    "    for i in range(n_samples):\n",
    "        words = clean_and_tokenize(texts[i])\n",
    "        for w in words:\n",
    "            if w in vocabulary:\n",
    "                j = vocabulary[w]\n",
    "                counts[i][j] += 1\n",
    "    \n",
    "    return vocabulary, counts"
   ]
  },
  {
   "cell_type": "markdown",
   "metadata": {},
   "source": [
    "<div class='alert alert-block alert-warning'>\n",
    "            Questions:</div>                       \n",
    "\n",
    "Careful: check the size that the representations are going to have (given the way they are build). What does this imply for the memory use ? What ```CountVectorizer``` argument allows to avoid the issue ?\\\n",
    "\\\n",
    "Since we use 2000 documents after the train/test split, the counts array is going to have 2000 rows which is a lot and each document can be several hundred words long so the vocabulary will certainly be huge which in turn can cause memory problem. It has in fact 29427 columns which means the count array has nearly 60 million elements. To remedy to this problem with CountVectorizer we can give a value to the min_df argument that sets a minimum document frequency value for a word to be counted in the vocabulary.\n",
    "\n",
    "<div class='alert alert-block alert-info'>\n",
    "            Code:</div>"
   ]
  },
  {
   "cell_type": "code",
   "execution_count": 23,
   "metadata": {},
   "outputs": [
    {
     "name": "stdout",
     "output_type": "stream",
     "text": [
      "(2000, 29227)\n"
     ]
    }
   ],
   "source": [
    "voc, train_bow = count_words(train_texts_splt)\n",
    "print(train_bow.shape)"
   ]
  },
  {
   "cell_type": "code",
   "execution_count": 24,
   "metadata": {},
   "outputs": [
    {
     "name": "stdout",
     "output_type": "stream",
     "text": [
      "(500, 29227)\n"
     ]
    }
   ],
   "source": [
    "_, val_bow = count_words(val_texts, voc)\n",
    "print(val_bow.shape)"
   ]
  },
  {
   "cell_type": "code",
   "execution_count": 25,
   "metadata": {},
   "outputs": [
    {
     "name": "stdout",
     "output_type": "stream",
     "text": [
      "(2000, 25308)\n"
     ]
    }
   ],
   "source": [
    "# Do the same with a CountVectorizer: create and fit the vectorizer to the training data\n",
    "Bow = vectorizer.fit_transform(train_texts_splt)\n",
    "Bow = Bow.toarray()\n",
    "print(Bow.shape)"
   ]
  },
  {
   "cell_type": "code",
   "execution_count": 26,
   "metadata": {},
   "outputs": [
    {
     "name": "stdout",
     "output_type": "stream",
     "text": [
      "(500, 25308)\n"
     ]
    }
   ],
   "source": [
    "# Transform the validation data\n",
    "predictions = vectorizer.transform(val_texts)\n",
    "predictions = predictions.toarray()\n",
    "print(predictions.shape)"
   ]
  },
  {
   "cell_type": "markdown",
   "metadata": {},
   "source": [
    "## II- Naive Bayesian \n",
    "\n",
    "### Main idea\n",
    "\n",
    "A movie review is in fact a list of words $s = (w_1, ..., w_N)$, and we try to find the associated class $c$ - which in our case may be $c = 0$ or $c = 1$. The objective is thus to find for each review $s$ the class $\\hat{c}$ maximizing the conditional probability **$P(c|s)$** : \n",
    "\n",
    "$$\\hat{c} = \\underset{c}{\\mathrm{argmax}}\\, P(c|s) = \\underset{c}{\\mathrm{argmax}}\\,\\frac{P(s|c)P(c)}{P(s)}$$\n",
    "\n",
    "**Hypothesis : P(s) is constant for each class** :\n",
    "\n",
    "$$\\hat{c} = \\underset{c}{\\mathrm{argmax}}\\,\\frac{P(s|c)P(c)}{P(s)} = \\underset{c}{\\mathrm{argmax}}\\,P(s|c)P(c)$$\n",
    "\n",
    "**Naive hypothesis : the variables (words) of a review are independant between themselves** : \n",
    "\n",
    "$$P(s|c) = P(w_1, ..., w_N|c)=\\Pi_{i=1..N}P(w_i|c)$$"
   ]
  },
  {
   "cell_type": "markdown",
   "metadata": {},
   "source": [
    "### General view\n",
    "\n",
    "#### Training: Estimating the probabilities\n",
    "\n",
    "For each word $w$ in the vocabulary $V$, $P(w|c)$ is the number of occurrences of $w$ in all reviews of class $c$, divided by the total number of occurrences in $c$. If we note $T(w,c)$ this number of occurrences, we get:\n",
    "\n",
    "$$P(w|c) = \\text{Frequency of }w\\text{ in }c = \\frac{T(w,c)}{\\sum_{w' \\in V} T(w',c)}$$\n",
    "\n",
    "#### Test: Calculating scores\n",
    "\n",
    "To facilitate the calculations and to avoid *underflow* and approximation errors, we use the log-sum trick, and we pass the equation into log-probabilities : \n",
    "\n",
    "$$ \\hat{c} = \\underset{c}{\\mathrm{argmax}} P(c|s) = \\underset{c}{\\mathrm{argmax}} \\left[ \\mathrm{log}(P(c)) + \\sum_{i=1..N}log(P(w_i|c)) \\right] $$\n",
    "\n",
    "#### Laplace smoothing\n",
    "\n",
    "A word that does not appear in a document has a probability of zero: this will cause issues with the logarithm. So we keep a very small part of the probability mass that we redistribute with the *Laplace smoothing*: \n",
    "\n",
    "$$P(w|c) = \\frac{T(w,c) + 1}{\\sum_{w' \\in V} (T(w',c) + 1)}$$\n",
    "\n",
    "There are other smoothing methods, generally suitable for other, more complex applications. "
   ]
  },
  {
   "cell_type": "markdown",
   "metadata": {},
   "source": [
    "### Detail: training\n",
    "\n",
    "The idea is to extract the number of occurrences $T(w,c)$ for each word $w$ and each class $c$, which will make it possible to calculate the matrix of conditional probabilities $\\pmb{P}$ such that: $$\\pmb{P}_{w,c} = P(w|c)$$\n",
    "\n",
    "Note that the number of occurrences $T(w,c)$ can be easily obtained from the BoW representations of all documents !\n",
    "\n",
    "#### Procedure:\n",
    "\n",
    "- Extract the vocabulary $V$ and counts $T(w,c)$ for each of the words $w$ and classes $c$, from a set of documents.\n",
    "- Calculate the a priori probabilities of the classes $P(c) = \\frac{|\\text{documents in class }c|}{|\\text{all documents}|}$\n",
    "- Calculate the conditional **smoothed** probabilities $P(w|c) = \\frac{T(w,c) + 1}{\\sum_{w' \\in V} T(w',c) + 1}$.\n",
    "\n",
    "### Detail: test\n",
    "\n",
    "We now know the conditional probabilities given by the $\\pmb{P}$ matrix. \n",
    "Now we must obtain $P(s|c)$ for the current document. This quantity is obtained using a simple calculation involving the BoW representation of the document and $\\pmb{P}$.\n",
    "\n",
    "#### Procedure:\n",
    "\n",
    "- For each of the classes $c$,\n",
    "    - $Score(c) = \\log P(c)$\n",
    "    - For each word $w$ in the document to be tested:\n",
    "        - $Score(c) += \\log P(w|c)$\n",
    "- Return $argmax_{c \\in C} Score(c)$ "
   ]
  },
  {
   "cell_type": "markdown",
   "metadata": {},
   "source": [
    "We will therefore be able to use the reviews at our disposal to **estimate the probabilities $P(w|c)$ for each word $w$ given the two classes $c$**. These reviews will allow us to learn how to evaluate the \"compatibility\" between words and classes.\n",
    "```python\n",
    "def fit(self, X, y)\n",
    "``` \n",
    "**Training**: will learn a statistical model based on the representations $X$ corresponding to the labels $y$.\n",
    "Here, $X$ contains representations obtained as the output of ```count_words```. You can complete the function using the procedure detailed above. \n",
    "\n",
    "Note: the smoothing is not necessarily done with a $1$ - it can be done with a positive value $\\alpha$, which we can implement as an argument of the class \"NB\".\n",
    "\n",
    "```python\n",
    "def predict(self, X)\n",
    "```\n",
    "**Testing**: will return the labels predicted by the model for other representations $X$.\n",
    "\n",
    "<div class='alert alert-block alert-info'>\n",
    "            Code:</div>"
   ]
  },
  {
   "cell_type": "code",
   "execution_count": 27,
   "metadata": {},
   "outputs": [],
   "source": [
    "class NB(BaseEstimator, ClassifierMixin):\n",
    "    # Les arguments de classe permettent l'héritage de classes de sklearn\n",
    "    def __init__(self, alpha=1.0):\n",
    "        # alpha is the smoothing parameter: it corresponds to line 10 of the training algorithm\n",
    "        # By default, we use alpha = 1\n",
    "        self.alpha = alpha\n",
    "        self.classes_prob = np.zeros(2)\n",
    "        self.P = []\n",
    "\n",
    "    def fit(self, X, y):\n",
    "        Nd, Nw = X.shape\n",
    "        P = self.alpha*np.ones((Nw,2))\n",
    "        classes_count = np.zeros(2)\n",
    "        for i in range(Nd):\n",
    "            c = y[i]\n",
    "            classes_count[c] += 1\n",
    "            for j in range(Nw):\n",
    "                P[j][c] += X[i][j]\n",
    "        P = np.divide(P,np.sum(P,axis=0))\n",
    "        self.P = P  \n",
    "        self.classes_prob = classes_count/Nd\n",
    "\n",
    "        return self\n",
    "\n",
    "    def predict(self, X):\n",
    "        Nd,Nw = X.shape\n",
    "        result = np.zeros(Nd).astype(int)\n",
    "        for i in range(Nd):\n",
    "            score = np.log(self.classes_prob)\n",
    "            for j in range(Nw):\n",
    "                score += X[i][j]*np.log(self.P[j])\n",
    "            result[i] = np.argmax(score)           \n",
    "        return result\n",
    "\n",
    "    def score(self, X, y):\n",
    "        return np.mean(self.predict(X) == y)"
   ]
  },
  {
   "cell_type": "markdown",
   "metadata": {},
   "source": [
    "## III - Experimentation\n",
    "\n",
    "Experiment on this model with your own representations. **Visualize** the results with the following tools, and **compare with the representations of ```CountVectorizer```/ naïve Bayes model of scikit-learn ```MultinomialNB```:**\\\n",
    "\\\n",
    "Using my own version of Naïve Bayes gets the same results as using sklearn's implementation, however the latter is way faster (40 times more so). Using CountVectorizer makes the accuracy go from 81.2% to 80.8%, we had seen previously that it retained less words, it must have removed uninteresting ones for the classification.\n",
    "\n",
    "<div class='alert alert-block alert-info'>\n",
    "            Code:</div>"
   ]
  },
  {
   "cell_type": "code",
   "execution_count": 28,
   "metadata": {},
   "outputs": [],
   "source": [
    "from sklearn.metrics import confusion_matrix, ConfusionMatrixDisplay, classification_report\n",
    "from sklearn.naive_bayes import MultinomialNB"
   ]
  },
  {
   "cell_type": "code",
   "execution_count": 29,
   "metadata": {},
   "outputs": [
    {
     "name": "stdout",
     "output_type": "stream",
     "text": [
      "Accuracy with my implementation of NB and count_words: 0.812\n"
     ]
    }
   ],
   "source": [
    "my_NB = NB(alpha = 1.)\n",
    "my_NB.fit(train_bow, train_labels_splt)\n",
    "print(\"Accuracy with my implementation of NB and count_words:\",my_NB.score(val_bow,val_labels))"
   ]
  },
  {
   "cell_type": "code",
   "execution_count": 30,
   "metadata": {},
   "outputs": [
    {
     "name": "stdout",
     "output_type": "stream",
     "text": [
      "Accuracy with my implementation of NB and CountVectorizer: 0.808\n"
     ]
    }
   ],
   "source": [
    "my_NB = NB(alpha = 1.)\n",
    "my_NB.fit(Bow, train_labels_splt)\n",
    "print(\"Accuracy with my implementation of NB and CountVectorizer:\",my_NB.score(predictions,val_labels))"
   ]
  },
  {
   "cell_type": "code",
   "execution_count": 31,
   "metadata": {},
   "outputs": [
    {
     "name": "stdout",
     "output_type": "stream",
     "text": [
      "Accuracy with MultinomialNB and count_words: 0.812\n"
     ]
    }
   ],
   "source": [
    "sk_NB = MultinomialNB()\n",
    "sk_NB.fit(train_bow,train_labels_splt)\n",
    "print(\"Accuracy with MultinomialNB and count_words:\",sk_NB.score(val_bow,val_labels))"
   ]
  },
  {
   "cell_type": "code",
   "execution_count": 32,
   "metadata": {},
   "outputs": [
    {
     "name": "stdout",
     "output_type": "stream",
     "text": [
      "Accuracy with MultinomialNB and CountVectorizer: 0.808\n"
     ]
    }
   ],
   "source": [
    "sk_NB = MultinomialNB()\n",
    "sk_NB.fit(Bow,train_labels_splt)\n",
    "print(\"Accuracy with MultinomialNB and CountVectorizer:\",sk_NB.score(predictions,val_labels))"
   ]
  },
  {
   "cell_type": "markdown",
   "metadata": {},
   "source": [
    "<div class='alert alert-block alert-warning'>\n",
    "            Questions:</div>\n",
    "            \n",
    "Let us look at the *features* built by the ```vectorizer```. What seems to be the issue ? \\\n",
    "\\\n",
    "The feature are numbers which we can't use to determine whether a review is positive or not, further cleaning needs to be done to avoid using those to classify the reviews."
   ]
  },
  {
   "cell_type": "code",
   "execution_count": 33,
   "metadata": {},
   "outputs": [
    {
     "name": "stdout",
     "output_type": "stream",
     "text": [
      "['00' '000' '00001' '007' '0079' '0080' '0083' '02' '05' '06' '07' '08'\n",
      " '09' '10' '100' '1000' '100m' '101' '102' '103' '105' '10mil' '10th'\n",
      " '10yr' '11' '11001001' '112' '12' '120' '1200f' '125' '12s' '12th' '13'\n",
      " '130' '134' '13th' '14' '145' '147' '15' '150' '16' '161' '1692' '16th'\n",
      " '17' '1700' '1794' '1798' '17th' '18' '180' '1800' '1814' '1840' '1864'\n",
      " '1880' '1889' '1892' '1895' '1897' '18th' '19' '1902' '1907' '1910'\n",
      " '1911' '1912' '1914' '1916' '1918' '1919' '1920' '1920s' '1921' '1922'\n",
      " '1924' '1925' '1927' '1928' '1929' '1930' '1930s' '1931' '1932' '1933'\n",
      " '1934' '1935' '1936' '1937' '1938' '1939' '1940' '1940s' '1941' '1942'\n",
      " '1943' '1944' '1945']\n"
     ]
    }
   ],
   "source": [
    "print(vectorizer.get_feature_names_out()[:100])"
   ]
  },
  {
   "cell_type": "markdown",
   "metadata": {},
   "source": [
    "### Improving representations\n",
    "\n",
    "Mainly, the arguments of the class ```vectorizer``` will allow us to easily change the way our textual data is represented. Let us try to work on our *Bag-of-words* representations:\n",
    "   \n",
    "#### Do not take into account words that are too frequent:\n",
    "\n",
    "You can use the argument ```max_df=1.0``` to change the amount of words taken into account. \n",
    "\n",
    "#### Try different granularities:\n",
    "\n",
    "Rather than just counting words, we can count sequences of words - limited in size, of course. \n",
    "We call a sequence of $n$ words a $n$-gram: let's try using 2 and 3-grams (bi- and trigrams).\n",
    "We can also try to use character sequences instead of word sequences.\n",
    "\n",
    "We will be interested in the options ```analyze='word'``` and ```ngram_range=(1, 2)``` which we'll change to alter the granularity: **obtain classification results with them**.\n",
    "\n",
    "Again: using these ways of getting more features from our text will probably have more impact if we do not have much training data to begin with ! To accelerate experiments, use the ```Pipeline``` tool from scikit-learn. \n",
    "\n",
    "<div class='alert alert-block alert-info'>\n",
    "            Code:</div>"
   ]
  },
  {
   "cell_type": "code",
   "execution_count": 34,
   "metadata": {},
   "outputs": [],
   "source": [
    "from sklearn.pipeline import Pipeline"
   ]
  },
  {
   "cell_type": "code",
   "execution_count": 35,
   "metadata": {},
   "outputs": [
    {
     "name": "stdout",
     "output_type": "stream",
     "text": [
      "              precision    recall  f1-score   support\n",
      "\n",
      "           0       0.85      0.87      0.86       258\n",
      "           1       0.86      0.83      0.84       242\n",
      "\n",
      "    accuracy                           0.85       500\n",
      "   macro avg       0.85      0.85      0.85       500\n",
      "weighted avg       0.85      0.85      0.85       500\n",
      "\n"
     ]
    }
   ],
   "source": [
    "pipeline_base = Pipeline([\n",
    "    ('vect', CountVectorizer(max_features=30000, analyzer='word', stop_words=None, max_df=0.1,ngram_range=(1,2))),\n",
    "    ('clf', MultinomialNB()),\n",
    "])\n",
    "pipeline_base.fit(train_texts_splt, train_labels_splt)\n",
    "val_pred = pipeline_base.predict(val_texts)\n",
    "print(classification_report(val_labels, val_pred))"
   ]
  },
  {
   "cell_type": "markdown",
   "metadata": {},
   "source": [
    "#### Tf-idf:\n",
    "\n",
    "This is the product of the frequency of the term (TF) and its inverse frequency in documents (IDF).\n",
    "This method is usually used to measure the importance of a term $i$ in a document $j$ relative to the rest of the corpus, from a matrix of occurrences $ words \\times documents$. Thus, for a matrix $\\mathbf{T}$ of $|V|$ terms and $D$ documents:\n",
    "$$\\text{TF}(T, w, d) = \\frac{T_{w,d}}{\\sum_{w'=1}^{|V|} T_{w',d}} $$\n",
    "\n",
    "$$\\text{IDF}(T, w) = \\log\\left(\\frac{D}{|\\{d : T_{w,d} > 0\\}|}\\right)$$\n",
    "\n",
    "$$\\text{TF-IDF}(T, w, d) = \\text{TF}(X, w, d) \\cdot \\text{IDF}(T, w)$$\n",
    "\n",
    "It can be adapted to our case by considering that the context of the second word is the document. However, TF-IDF is generally better suited to low-density matrices, since it will penalize terms that appear in a large part of the documents. "
   ]
  },
  {
   "cell_type": "markdown",
   "metadata": {},
   "source": [
    "Experiment with this new representations using the ```TfidfTransformer``` applied on top of ```CountVectorizer```.\n",
    "\n",
    "<div class='alert alert-block alert-info'>\n",
    "            Code:</div>"
   ]
  },
  {
   "cell_type": "code",
   "execution_count": 36,
   "metadata": {},
   "outputs": [],
   "source": [
    "from sklearn.feature_extraction.text import TfidfTransformer"
   ]
  },
  {
   "cell_type": "code",
   "execution_count": 37,
   "metadata": {},
   "outputs": [
    {
     "name": "stdout",
     "output_type": "stream",
     "text": [
      "TF-IDF with TfidfTransformer:\n",
      "              precision    recall  f1-score   support\n",
      "\n",
      "           0       0.80      0.90      0.85       258\n",
      "           1       0.88      0.76      0.81       242\n",
      "\n",
      "    accuracy                           0.83       500\n",
      "   macro avg       0.84      0.83      0.83       500\n",
      "weighted avg       0.84      0.83      0.83       500\n",
      "\n"
     ]
    }
   ],
   "source": [
    "pipeline_tfidf_transformer = Pipeline([\n",
    "    ('vect', CountVectorizer(max_features=30000, analyzer='word', stop_words=None)),\n",
    "    ('tfidf', TfidfTransformer()),\n",
    "    ('clf', MultinomialNB()),\n",
    "])\n",
    "\n",
    "pipeline_tfidf_transformer.fit(train_texts_splt, train_labels_splt)\n",
    "\n",
    "val_pred_tfidf_transformer = pipeline_tfidf_transformer.predict(val_texts)\n",
    "\n",
    "print(\"TF-IDF with TfidfTransformer:\")\n",
    "print(classification_report(val_labels, val_pred_tfidf_transformer))"
   ]
  },
  {
   "cell_type": "markdown",
   "metadata": {},
   "source": [
    "We strangely get a worse result than the base MultinomialNB on CountVectorizer and the bi-gram model."
   ]
  },
  {
   "cell_type": "markdown",
   "metadata": {},
   "source": [
    "## IV - More pre-processing: getting vocabularies\n",
    "\n",
    "For more flexibility, we will implement separately a function returning the vocabulary. Here we will have to be able to control its size, either by indicating a **maximum number of words**, or a **minimum number of occurrences** to take the words into account. **We add, at the end, an \"unknown\" word that will replace all the words that do not appear in our \"limited\" vocabulary**.\n",
    "<div class='alert alert-block alert-info'>\n",
    "            Code:</div>"
   ]
  },
  {
   "cell_type": "code",
   "execution_count": 38,
   "metadata": {},
   "outputs": [],
   "source": [
    "def vocabulary(corpus, count_threshold=5, voc_threshold=10000):\n",
    "    \"\"\"    \n",
    "    Function using word counts to build a vocabulary - can be improved with a second parameter for \n",
    "    setting a frequency threshold\n",
    "    Params:\n",
    "        corpus (list of strings): corpus of sentences\n",
    "        count_threshold (int): number of occurences necessary for a word to be included in the vocabulary\n",
    "        voc_threshold (int): maximum size of the vocabulary. Use \"0\" to indicate no limit \n",
    "    Returns:\n",
    "        vocabulary (dictionary): keys: list of distinct words across the corpus\n",
    "                                 values: indexes corresponding to each word sorted by frequency   \n",
    "        vocabulary_word_counts (dictionary): keys: list of distinct words across the corpus\n",
    "                                             values: corresponding counts of words in the corpus\n",
    "    \"\"\"\n",
    "    word_counts = {}\n",
    "    for sent in corpus:\n",
    "        ws = clean_and_tokenize(sent)\n",
    "        for w in ws:\n",
    "            if w not in word_counts:\n",
    "                word_counts[w] = 1\n",
    "            else:\n",
    "                word_counts[w] += 1\n",
    "    filtered_word_counts = {word : occ for word,occ in word_counts.items() if occ >= count_threshold} # Filter according to count_threhshold        \n",
    "    sorted_words = sorted(filtered_word_counts.items(), key = lambda x: x[1], reverse=True) # Extract the words according to frequency\n",
    "    filtered_words = {word: occ for word,occ in sorted_words[:voc_threshold]} # Remove the words above voc-threshold\n",
    "    words = filtered_words | {'<UNK>':min(len(sorted_words),voc_threshold)} # Add UNK\n",
    "    vocabulary = {word: i for word,i in zip(words.keys(),range(len(words))) } # Create vocabulary from \"words\"\n",
    "    return vocabulary, {word: filtered_word_counts.get(word, 0) for word in vocabulary}"
   ]
  },
  {
   "cell_type": "code",
   "execution_count": 39,
   "metadata": {},
   "outputs": [
    {
     "name": "stdout",
     "output_type": "stream",
     "text": [
      "{'down': 0, 'the': 1, '<UNK>': 2}\n",
      "{'down': 6, 'the': 6, '<UNK>': 0}\n",
      "{'down': 0, 'the': 1, 'walked': 2, 'boulevard': 3, 'avenue': 4, 'walk': 5, 'ran': 6, 'city': 7, '<UNK>': 8}\n",
      "{'down': 6, 'the': 6, 'walked': 2, 'boulevard': 2, 'avenue': 2, 'walk': 2, 'ran': 1, 'city': 1, '<UNK>': 0}\n"
     ]
    }
   ],
   "source": [
    "# Example for testing:\n",
    "\n",
    "corpus = ['I walked down down the boulevard',\n",
    "          'I walked down the avenue',\n",
    "          'I ran down the boulevard',\n",
    "          'I walk down the city',\n",
    "          'I walk down the the avenue']\n",
    "\n",
    "voc, counts = vocabulary(corpus, count_threshold = 3)\n",
    "print(voc)\n",
    "print(counts)\n",
    "\n",
    "# We expect something like this:\n",
    "# (In this example, we don't count 'UNK' unknown words, but you can if you want to. \n",
    "# How useful it may be depends on the data -> we will use the counts later with word2vec, keep that in mind) \n",
    "#  {'down': 0, 'the': 1, 'i': 2, 'UNK': 3}\n",
    "#  {'down': 6, 'the': 6, 'i': 5, 'UNK': 0}\n",
    "\n",
    "voc, counts = vocabulary(corpus, count_threshold=0)\n",
    "print(voc)\n",
    "print(counts)\n",
    "\n",
    "# We expect something like this:\n",
    "#  {'down': 0, 'the': 1, 'i': 2, 'walked': 3, 'boulevard': 4, 'avenue': 5, 'walk': 6, 'ran': 7, 'city': 8, 'UNK': 9}\n",
    "#  {'down': 6, 'the': 6, 'i': 5, 'walked': 2, 'boulevard': 2, 'avenue': 2, 'walk': 2, 'ran': 1, 'city': 1, 'UNK': 0}"
   ]
  },
  {
   "cell_type": "markdown",
   "metadata": {},
   "source": [
    "### Quick study of the data\n",
    "\n",
    "We would like to get an idea of what's in these film reviews. So we'll get the vocabulary (in full) and represent the frequencies of the words, in order (be careful, you'll have to use a logarithmic scale): we should find back Zipf's law. This will give us an idea of the size of the vocabulary we will be able to choose: it's a matter of making a compromise between the necessary resources (size of the objects in memory) and the amount of information we can get from them (rare words can bring a lot of information, but it's difficult to learn good representations of them, because they are rare!).  \n",
    "\n",
    "<div class='alert alert-block alert-info'>\n",
    "            Code:</div>"
   ]
  },
  {
   "cell_type": "code",
   "execution_count": 40,
   "metadata": {},
   "outputs": [
    {
     "data": {
      "image/png": "[encoded data removed]",
      "text/plain": [
       "<Figure size 2000x500 with 1 Axes>"
      ]
     },
     "metadata": {},
     "output_type": "display_data"
    },
    {
     "name": "stdout",
     "output_type": "stream",
     "text": [
      "Vocabulary size: 10001\n",
      "Part of the corpus by taking the \"x\" most frequent words ?\n",
      "The 2 most common words are present 490142 times\n"
     ]
    }
   ],
   "source": [
    "# We would like to display the curve of word frequencies given their rank (index) in the vocabulary\n",
    "vocab, word_counts = vocabulary(train_texts)\n",
    "i = 0\n",
    "rank=[]\n",
    "counts=[]\n",
    "for words,occ in word_counts.items():\n",
    "    counts.append(occ)\n",
    "    rank.append(i)\n",
    "    i += 1\n",
    "counts = np.array(counts)\n",
    "\n",
    "\n",
    "# We can for example use the function plt.scatter()\n",
    "plt.figure(figsize=(20,5))\n",
    "plt.title('Word counts versus rank')\n",
    "plt.plot(rank,counts)\n",
    "plt.yscale('log')\n",
    "plt.show()\n",
    "\n",
    "# We would like to know how much of the data is represented by the 'k' most frequent words\n",
    "print('Vocabulary size: %i' % len(vocab))\n",
    "print('Part of the corpus by taking the \"x\" most frequent words ?')\n",
    "k = 2\n",
    "print(\"The\",k,\"most common words are present\",np.sum(counts[:k]),\"times\")"
   ]
  },
  {
   "cell_type": "markdown",
   "metadata": {},
   "source": [
    "<div class='alert alert-block alert-warning'>\n",
    "            Questions:</div>\n",
    "            \n",
    "Word2vec's implementation cuts the vocabulary size by using **only words with at least 5 occurences**, by default. What vocabulary size would it give here ? Does it seem like a good compromise, looking at the graph ?\\\n",
    "\\\n",
    "We would get the same vocabulary size since we implemented vocabulary to only keep words that appear more than 5 times. Some rare words can be very useful for classification but to have a model as efficient as possible we can't keep them all and inside this dataset, most words appear between 50 and 250 times which is way more than 5."
   ]
  },
  {
   "cell_type": "markdown",
   "metadata": {},
   "source": [
    "### With pre-processing tools from NLTK\n",
    "\n",
    "We are now going to pre-process our textual data. **Note that this still will only be useful if we do not have a lot of training data to begin with !**"
   ]
  },
  {
   "cell_type": "markdown",
   "metadata": {},
   "source": [
    "#### Stemming \n",
    "\n",
    "Allows to go back to the root of a word: you can group different words around the same root, which facilitates generalization. Use:\n",
    "```from nltk import SnowballStemmer```"
   ]
  },
  {
   "cell_type": "code",
   "execution_count": 41,
   "metadata": {},
   "outputs": [],
   "source": [
    "from nltk import SnowballStemmer\n",
    "stemmer = SnowballStemmer(\"english\")"
   ]
  },
  {
   "cell_type": "markdown",
   "metadata": {},
   "source": [
    "**Example:**"
   ]
  },
  {
   "cell_type": "code",
   "execution_count": 42,
   "metadata": {},
   "outputs": [
    {
     "name": "stdout",
     "output_type": "stream",
     "text": [
      "word : singers ; stemmed : singer\n",
      "word : cat ; stemmed : cat\n",
      "word : generalization ; stemmed : general\n",
      "word : philosophy ; stemmed : philosophi\n",
      "word : psychology ; stemmed : psycholog\n",
      "word : philosopher ; stemmed : philosoph\n"
     ]
    }
   ],
   "source": [
    "words = ['singers', 'cat', 'generalization', 'philosophy', 'psychology', 'philosopher']\n",
    "for word in words:\n",
    "    print('word : %s ; stemmed : %s' %(word, stemmer.stem(word)))"
   ]
  },
  {
   "cell_type": "markdown",
   "metadata": {},
   "source": [
    "**Data transformation:**\n",
    "\n",
    "<div class='alert alert-block alert-info'>\n",
    "            Code:</div>"
   ]
  },
  {
   "cell_type": "code",
   "execution_count": 69,
   "metadata": {},
   "outputs": [],
   "source": [
    "def stem(texts):\n",
    "    \"\"\" \n",
    "        texts: list of documents\n",
    "    \"\"\"\n",
    "    N = len(texts)\n",
    "    stem_texts = []\n",
    "    for i in range(N):\n",
    "        stem_texts.append([])\n",
    "        stem_texts[i]= word_tokenize(texts[i])\n",
    "        for j in range(len(stem_texts[i])):\n",
    "            stem_texts[i][j] = stemmer.stem(stem_texts[i][j])\n",
    "        _,ind = np.unique(stem_texts[i],return_index=True)\n",
    "        stem_texts[i] = list(np.array(stem_texts[i])[np.sort(ind)])\n",
    "    return stem_texts"
   ]
  },
  {
   "cell_type": "markdown",
   "metadata": {},
   "source": [
    "#### Part of speech tags\n",
    "\n",
    "To generalize, we can also use the Part of Speech (POS) of the words, which will allow us to filter out information that is potentially not useful to the model. We will retrieve the POS of the words using the functions:\n",
    "```pos_tag```"
   ]
  },
  {
   "cell_type": "code",
   "execution_count": 44,
   "metadata": {},
   "outputs": [],
   "source": [
    "import nltk\n",
    "from nltk import pos_tag, word_tokenize"
   ]
  },
  {
   "cell_type": "markdown",
   "metadata": {},
   "source": [
    "**Example:**"
   ]
  },
  {
   "cell_type": "code",
   "execution_count": 56,
   "metadata": {},
   "outputs": [
    {
     "data": {
      "text/plain": [
       "[('I', 'PRP'), ('am', 'VBP'), ('Sam', 'NNP')]"
      ]
     },
     "execution_count": 56,
     "metadata": {},
     "output_type": "execute_result"
    }
   ],
   "source": [
    "import nltk\n",
    "#nltk.download('punkt')\n",
    "#nltk.download('averaged_perceptron_tagger')\n",
    "\n",
    "pos_tag(word_tokenize(('I am Sam')))"
   ]
  },
  {
   "cell_type": "markdown",
   "metadata": {},
   "source": [
    "**Data transformation:** only keep nouns, verbs, adverbs, and adjectives (```['NN', 'VB', 'ADJ', 'RB']```) for our model.\n",
    "\n",
    "<div class='alert alert-block alert-info'>\n",
    "            Code:</div>"
   ]
  },
  {
   "cell_type": "code",
   "execution_count": 72,
   "metadata": {},
   "outputs": [],
   "source": [
    "def pos_tag_filter(X, good_tags=['NN', 'VB', 'ADJ', 'RB']):\n",
    "    \"\"\" \n",
    "        X: list of tokenized documents\n",
    "    \"\"\"\n",
    "    N = len(X)\n",
    "    X_pos = []\n",
    "    for i in range(N):\n",
    "        X_pos.append('')\n",
    "        pos_tok_doc = pos_tag(X[i])\n",
    "        for token,tag in pos_tok_doc:\n",
    "            if tag in good_tags:\n",
    "                X_pos[i] += token\n",
    "    return X_pos"
   ]
  },
  {
   "cell_type": "markdown",
   "metadata": {},
   "source": [
    "### Application\n",
    "\n",
    "<div class='alert alert-block alert-warning'>\n",
    "            Questions:</div>\n",
    "\n",
    "Re-draw the Zipf distribution of our data **after reducing their vocabulary with these functions**. How is it affected ? How do you think it could affect results here ?\\\n",
    "\\\n",
    "After stemming and POS filtering the data, I still get a curve of the same shape but a lot of words have been filtered out, probably because of stem which sometimes creates words (ex: histori) that in turn get rejected by pos_tag_filter because they don't exist in the English language so thye don't match any of the tags we want to keep. By having that much less words we certainly will get a worse result. If more words had been kept we could have gotten a result approximately as good as the one without pre-processing while being more memory efficient. However, just like frequency thresholding, this method removes rare but useful words for classification.\n",
    "        \n",
    "<div class='alert alert-block alert-info'>\n",
    "            Code:</div>        "
   ]
  },
  {
   "cell_type": "code",
   "execution_count": 71,
   "metadata": {},
   "outputs": [],
   "source": [
    "stem_data = stem(train_texts)"
   ]
  },
  {
   "cell_type": "code",
   "execution_count": 73,
   "metadata": {},
   "outputs": [],
   "source": [
    "pos_filter_tok_data = pos_tag_filter(stem_data)"
   ]
  },
  {
   "cell_type": "code",
   "execution_count": 74,
   "metadata": {},
   "outputs": [
    {
     "data": {
      "image/png": "[encoded data removed]",
      "text/plain": [
       "<Figure size 2000x500 with 1 Axes>"
      ]
     },
     "metadata": {},
     "output_type": "display_data"
    }
   ],
   "source": [
    "# We would like to display the curve of word frequencies given their rank (index) in the vocabulary\n",
    "vocab, word_counts = vocabulary(pos_filter_tok_data)\n",
    "i = 0\n",
    "rank=[]\n",
    "counts=[]\n",
    "for words,occ in word_counts.items():\n",
    "    counts.append(occ)\n",
    "    rank.append(i)\n",
    "    i += 1\n",
    "counts = np.array(counts)\n",
    "\n",
    "\n",
    "# We can for example use the function plt.scatter()\n",
    "plt.figure(figsize=(20,5))\n",
    "plt.title('Word counts versus rank')\n",
    "plt.plot(rank,counts)\n",
    "plt.yscale('log')\n",
    "plt.show()\n",
    "\n"
   ]
  }
 ],
 "metadata": {
  "anaconda-cloud": {},
  "kernelspec": {
   "display_name": "Python 3 (ipykernel)",
   "language": "python",
   "name": "python3"
  },
  "language_info": {
   "codemirror_mode": {
    "name": "ipython",
    "version": 3
   },
   "file_extension": ".py",
   "mimetype": "text/x-python",
   "name": "python",
   "nbconvert_exporter": "python",
   "pygments_lexer": "ipython3",
   "version": "3.11.4"
  }
 },
 "nbformat": 4,
 "nbformat_minor": 1
}
